{
 "cells": [
  {
   "cell_type": "markdown",
   "metadata": {},
   "source": [
    "### Vector representation of python"
   ]
  },
  {
   "cell_type": "code",
   "execution_count": 1,
   "metadata": {
    "collapsed": true
   },
   "outputs": [],
   "source": [
    "vector_a = [1,2,3]  #list\n",
    "vector_b = (1,2,10) #tuple\n",
    "vector_c = {'x':1,'y':5,'z':10} #dict"
   ]
  },
  {
   "cell_type": "code",
   "execution_count": 2,
   "metadata": {},
   "outputs": [
    {
     "name": "stdout",
     "output_type": "stream",
     "text": [
      "[1, 2, 3] (1, 2, 10) {'y': 5, 'z': 10, 'x': 1}\n"
     ]
    }
   ],
   "source": [
    "print(vector_a, vector_b, vector_c)"
   ]
  },
  {
   "cell_type": "markdown",
   "metadata": {},
   "source": [
    "### vector 계산"
   ]
  },
  {
   "cell_type": "code",
   "execution_count": 3,
   "metadata": {},
   "outputs": [
    {
     "name": "stdout",
     "output_type": "stream",
     "text": [
      "[(2, 3, 5), (2, 5, 7)]\n",
      "[10, 14]\n"
     ]
    }
   ],
   "source": [
    "u =[2,2]\n",
    "v = [3,5]\n",
    "z = [5,7]\n",
    "\n",
    "tmp = [t for t in zip(u,v,z)]\n",
    "print(tmp) \n",
    "\n",
    "result = [sum(t) for t in zip(u,v,z)]\n",
    "print(result)"
   ]
  },
  {
   "cell_type": "code",
   "execution_count": 4,
   "metadata": {},
   "outputs": [
    {
     "name": "stdout",
     "output_type": "stream",
     "text": [
      "[10, 12, 14]\n"
     ]
    }
   ],
   "source": [
    "### sclar-vector product\n",
    "\n",
    "u = [1, 2, 3]\n",
    "v = [4, 4, 4]\n",
    "alpha =2\n",
    "\n",
    "result = [alpha*sum(t) for t in zip(u,v)]\n",
    "print(result)"
   ]
  },
  {
   "cell_type": "code",
   "execution_count": 5,
   "metadata": {
    "collapsed": true
   },
   "outputs": [],
   "source": [
    "## matrix representation of python\n",
    "\n",
    "matrix_a = [[3,6],[4,5]]\n",
    "matrix_b = [(3,6),(4,5)]\n",
    "matrix_c = {(0,0):3, (0,1):6, (1,0):4 , (1,1):5}\n"
   ]
  },
  {
   "cell_type": "code",
   "execution_count": 6,
   "metadata": {},
   "outputs": [
    {
     "name": "stdout",
     "output_type": "stream",
     "text": [
      "[[8, 14], [10, 12]]\n"
     ]
    }
   ],
   "source": [
    "# matrix의 계산 : matrix addition\n",
    "\n",
    "matrix_a =[[3,6],[4,5]]\n",
    "matrix_b = [[5,8],[6,7]]\n",
    "\n",
    "result = [[sum(row) for row in zip(*t)] for t in zip(matrix_a, matrix_b)]\n",
    "print(result)"
   ]
  },
  {
   "cell_type": "code",
   "execution_count": 7,
   "metadata": {},
   "outputs": [
    {
     "name": "stdout",
     "output_type": "stream",
     "text": [
      "[[12, 24], [16, 20]]\n"
     ]
    }
   ],
   "source": [
    "#matrix의 계산 : Scalar-Matirx Product\n",
    "\n",
    "matrix_a = [[3,6],[4,5]]\n",
    "alpha = 4\n",
    "result = [[alpha * element for element in t] for t in matrix_a]\n",
    "\n",
    "print(result)"
   ]
  },
  {
   "cell_type": "code",
   "execution_count": 8,
   "metadata": {},
   "outputs": [
    {
     "name": "stdout",
     "output_type": "stream",
     "text": [
      "[[1, 2, 3], [4, 5, 6]]\n",
      "[1, 2, 3] [4, 5, 6]\n",
      "[[1, 4], [2, 5], [3, 6]]\n"
     ]
    }
   ],
   "source": [
    "#matrix의 계산 : Matrix Transpose\n",
    "\n",
    "matrix_a = [[1,2,3],[4,5,6]]\n",
    "result = [[element for element in t] for t in zip(*matrix_a)]\n",
    "\n",
    "print(matrix_a)\n",
    "print(*matrix_a)\n",
    "print(result)"
   ]
  },
  {
   "cell_type": "code",
   "execution_count": 9,
   "metadata": {},
   "outputs": [
    {
     "name": "stdout",
     "output_type": "stream",
     "text": [
      "[[5, 8], [5, 6]]\n"
     ]
    }
   ],
   "source": [
    "#matrix의 계산 : Matrix product\n",
    "\n",
    "matrix_a =[[1,1,2],[2,1,1]]\n",
    "matrix_b = [[1,1],[2,1],[1,3]]\n",
    "\n",
    "result = [[sum(a*b for a,b in zip(row_a, column_b)) \\\n",
    "            for column_b in zip(*matrix_b)] for row_a in matrix_a]\n",
    "\n",
    "print(result)"
   ]
  },
  {
   "cell_type": "code",
   "execution_count": 10,
   "metadata": {},
   "outputs": [
    {
     "name": "stdout",
     "output_type": "stream",
     "text": [
      "([1, 2], [2, 3], [3, 4])\n",
      "[1, 2]\n"
     ]
    },
    {
     "data": {
      "text/plain": [
       "[(1, 2, 3), (2, 3, 4)]"
      ]
     },
     "execution_count": 10,
     "metadata": {},
     "output_type": "execute_result"
    }
   ],
   "source": [
    "def vector_addition(*args):\n",
    "    \n",
    "    print(args) # 세 개의 list\n",
    "    print(args[0])\n",
    "    \n",
    "    return [t for t in zip(*args)] # zip(A,B,C)\n",
    "\n",
    "vector_addition([1,2],[2,3],[3,4])"
   ]
  }
 ],
 "metadata": {
  "kernelspec": {
   "display_name": "Python 3",
   "language": "python",
   "name": "python3"
  },
  "language_info": {
   "codemirror_mode": {
    "name": "ipython",
    "version": 3
   },
   "file_extension": ".py",
   "mimetype": "text/x-python",
   "name": "python",
   "nbconvert_exporter": "python",
   "pygments_lexer": "ipython3",
   "version": "3.6.2"
  }
 },
 "nbformat": 4,
 "nbformat_minor": 1
}
